{
  "nbformat": 4,
  "nbformat_minor": 0,
  "metadata": {
    "colab": {
      "provenance": [],
      "mount_file_id": "1jNZ_Vln4G0Aipzbm2in84oShJjF5ZZZd",
      "authorship_tag": "ABX9TyMhjIAObhR9nGAsyFWUNSEp",
      "include_colab_link": true
    },
    "kernelspec": {
      "name": "python3",
      "display_name": "Python 3"
    },
    "language_info": {
      "name": "python"
    }
  },
  "cells": [
    {
      "cell_type": "markdown",
      "metadata": {
        "id": "view-in-github",
        "colab_type": "text"
      },
      "source": [
        "<a href=\"https://colab.research.google.com/github/Habusadik/ArewaDS-Machine-Learning/blob/main/ArewaDS_First.ipynb\" target=\"_parent\"><img src=\"https://colab.research.google.com/assets/colab-badge.svg\" alt=\"Open In Colab\"/></a>"
      ]
    },
    {
      "cell_type": "code",
      "source": [
        "%cd ArewaDSColabTest/"
      ],
      "metadata": {
        "colab": {
          "base_uri": "https://localhost:8080/"
        },
        "id": "xhR2GTx1V061",
        "outputId": "47a382dc-d6cb-4a97-e91b-a79181062578"
      },
      "execution_count": 15,
      "outputs": [
        {
          "output_type": "stream",
          "name": "stdout",
          "text": [
            "/content/drive/MyDrive/ArewaDSColabTest\n"
          ]
        }
      ]
    },
    {
      "cell_type": "code",
      "source": [
        "!pwd"
      ],
      "metadata": {
        "colab": {
          "base_uri": "https://localhost:8080/"
        },
        "id": "SNW1BWAIV-sx",
        "outputId": "e12f7947-0791-4567-9d78-74da21565d7f"
      },
      "execution_count": 16,
      "outputs": [
        {
          "output_type": "stream",
          "name": "stdout",
          "text": [
            "/content/drive/MyDrive/ArewaDSColabTest\n"
          ]
        }
      ]
    },
    {
      "cell_type": "code",
      "source": [
        "!git clone https://github.com/Habusadik/ArewaDS-Machine-Learning.git"
      ],
      "metadata": {
        "colab": {
          "base_uri": "https://localhost:8080/"
        },
        "id": "cPm9W-LjWExc",
        "outputId": "d9fba9a4-c738-4825-f3d8-e2a8073ae040"
      },
      "execution_count": 17,
      "outputs": [
        {
          "output_type": "stream",
          "name": "stdout",
          "text": [
            "Cloning into 'ArewaDS-Machine-Learning'...\n",
            "remote: Enumerating objects: 2936, done.\u001b[K\n",
            "remote: Counting objects: 100% (659/659), done.\u001b[K\n",
            "remote: Compressing objects: 100% (331/331), done.\u001b[K\n",
            "remote: Total 2936 (delta 365), reused 594 (delta 320), pack-reused 2277\u001b[K\n",
            "Receiving objects: 100% (2936/2936), 147.01 MiB | 14.66 MiB/s, done.\n",
            "Resolving deltas: 100% (1088/1088), done.\n",
            "Updating files: 100% (379/379), done.\n"
          ]
        }
      ]
    }
  ]
}